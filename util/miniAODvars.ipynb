{
 "cells": [
  {
   "cell_type": "code",
   "execution_count": 6,
   "metadata": {
    "collapsed": false
   },
   "outputs": [
    {
     "name": "stdout",
     "output_type": "stream",
     "text": [
      "Evt: 0\n",
      "Evt: 1\n",
      " - Tau pt  50.4331054688\n",
      " - El pt  50.598236084\n",
      " - El pt  5.2778801918\n",
      "Evt: 2\n",
      " - Tau pt  42.0793418884\n",
      " - El pt  7.31428623199\n",
      " - El pt  5.43153476715\n",
      " - Muon pt  4.83477592468\n",
      "Evt: 3\n",
      " - Tau pt  86.5329818726\n",
      " - Tau pt  21.4760074615\n",
      " - El pt  84.8631668091\n",
      "Evt: 4\n",
      " - Tau pt  19.1671390533\n",
      " - El pt  19.6626644135\n",
      " - El pt  7.19146776199\n",
      "Evt: 5\n",
      " - Tau pt  40.7724456787\n",
      " - Muon pt  6.72820281982\n",
      " - Muon pt  0.918378353119\n",
      "Evt: 6\n",
      " - Tau pt  50.3133544922\n",
      "Evt: 7\n",
      " - Tau pt  30.4794483185\n",
      " - El pt  2.41987228394\n",
      " - Muon pt  0.882314562798\n",
      "Evt: 8\n",
      " - Tau pt  47.2721405029\n",
      " - Tau pt  22.8114814758\n",
      " - El pt  49.4593086243\n",
      " - Muon pt  0.991241335869\n",
      "Evt: 9\n",
      " - Tau pt  39.0181465149\n",
      " - Tau pt  18.5782260895\n",
      " - Muon pt  1.25704550743\n",
      " - Muon pt  1.10109162331\n",
      "Evt: 10\n",
      " - Tau pt  78.5355148315\n",
      " - El pt  79.2970809937\n",
      " - Muon pt  1.92934799194\n",
      " - Muon pt  1.14093792439\n",
      " - Muon pt  0.864661812782\n",
      " - Muon pt  0.740739166737\n",
      "Evt: 11\n",
      " - Tau pt  35.2278709412\n",
      " - Tau pt  19.3025531769\n",
      " - El pt  19.5201301575\n",
      " - El pt  2.72761893272\n",
      " - Muon pt  1.96410405636\n",
      " - Muon pt  1.45722544193\n",
      " - Muon pt  0.91539555788\n",
      "Evt: 12\n",
      " - Tau pt  61.9202842712\n",
      " - Muon pt  61.9202842712\n",
      " - Muon pt  1.81041955948\n",
      " - Muon pt  1.35828316212\n",
      " - Muon pt  1.24812865257\n",
      " - Muon pt  0.914590716362\n",
      " - Muon pt  0.884090602398\n",
      "Evt: 13\n",
      " - Tau pt  45.1587791443\n",
      " - Tau pt  22.5603122711\n",
      " - El pt  31.7921924591\n",
      " - El pt  6.67573881149\n",
      " - El pt  6.34513139725\n",
      " - Muon pt  45.1587791443\n",
      " - Muon pt  3.06794571877\n",
      "Evt: 14\n",
      " - Tau pt  55.3509902954\n",
      " - El pt  2.96249437332\n",
      " - Muon pt  2.96838951111\n",
      " - Muon pt  1.50069510937\n",
      " - Muon pt  0.904495537281\n",
      "Evt: 15\n",
      " - Tau pt  40.3657798767\n",
      " - El pt  3.88657402992\n",
      " - El pt  2.33907222748\n",
      " - El pt  3.14265179634\n",
      " - Muon pt  0.926908195019\n",
      "Evt: 16\n",
      " - Tau pt  47.5274085999\n",
      " - Tau pt  23.9857845306\n",
      " - El pt  41.0856018066\n",
      " - El pt  3.37201690674\n",
      " - Muon pt  46.0761070251\n",
      " - Muon pt  0.880117297173\n",
      "Evt: 17\n",
      " - Tau pt  23.2817459106\n",
      " - El pt  13.1904230118\n",
      " - El pt  3.2619907856\n",
      "Evt: 18\n",
      " - Tau pt  47.3036727905\n",
      " - El pt  3.31867170334\n",
      "Evt: 19\n",
      " - Tau pt  48.7524299622\n",
      " - Tau pt  46.7727508545\n",
      " - El pt  49.9637184143\n",
      " - Muon pt  1.68871235847\n",
      " - Muon pt  1.02798390388\n",
      "Evt: 20\n",
      " - Tau pt  35.2946891785\n",
      " - Muon pt  6.42558240891\n",
      "Evt: 21\n",
      " - Tau pt  29.4043884277\n",
      " - Muon pt  26.9961910248\n"
     ]
    }
   ],
   "source": [
    "import ROOT\n",
    "from DataFormats.FWLite import Handle, Events\n",
    "events = Events(\"/afs/cern.ch/work/t/truggles/Z_to_tautau/sync_mcRun2.root\")\n",
    "electrons, electronLabel = Handle(\"std::vector<pat::Electron>\"), \"slimmedElectrons\"\n",
    "taus, tauLabel = Handle(\"std::vector<pat::Tau>\"), \"slimmedTaus\"\n",
    "muons, muonLabel = Handle(\"std::vector<pat::Muon>\"), \"slimmedMuons\"\n",
    "for iev,event in enumerate(events):\n",
    "    if iev == 22: break # Use 10 for tau vars, 2 for electron vars, 22 for muon vars\n",
    "    event.getByLabel(electronLabel, electrons)\n",
    "    event.getByLabel(tauLabel, taus)\n",
    "    event.getByLabel(muonLabel, muons)\n",
    "    print \"Evt: %i\" % iev\n",
    "    for i,tau in enumerate(taus.product()):\n",
    "        print \" - Tau pt \",tau.pt()\n",
    "    for i,el in enumerate(electrons.product()):\n",
    "        print \" - El pt \",el.pt()\n",
    "    for i,muon in enumerate(muons.product()):\n",
    "        print \" - Muon pt \",muon.pt()"
   ]
  },
  {
   "cell_type": "code",
   "execution_count": 8,
   "metadata": {
    "collapsed": false
   },
   "outputs": [
    {
     "name": "stdout",
     "output_type": "stream",
     "text": [
      "Taus\n",
      "<ROOT.edm::Ref<vector<reco::GenParticle>,reco::GenParticle,edm::refhelper::FindUsingAdvance<vector<reco::GenParticle>,reco::GenParticle> > object at 0x14365c00>\n",
      "15\n",
      "0.241960197687\n",
      "151.471817017\n",
      "False\n",
      "True\n"
     ]
    }
   ],
   "source": [
    "print \"Taus\"\n",
    "print tau.genParticleRef()\n",
    "print tau.genParticleRef().pdgId()\n",
    "print tau.genParticleRef().eta()\n",
    "print tau.genParticleRef().pt()\n",
    "print tau.genParticleRef().statusFlags().isDirectPromptTauDecayProduct()\n",
    "print tau.genParticleRef().statusFlags().isPrompt()"
   ]
  },
  {
   "cell_type": "code",
   "execution_count": 8,
   "metadata": {
    "collapsed": false,
    "scrolled": true
   },
   "outputs": [
    {
     "name": "stdout",
     "output_type": "stream",
     "text": [
      "Electrons\n",
      "1.35121095181\n",
      "False\n",
      "False\n"
     ]
    }
   ],
   "source": [
    "print \"Electrons\"\n",
    "print el.genParticleRef()\n",
    "print el.genParticleRef().pt()\n",
    "print el.genParticleRef().statusFlags().isPrompt()\n",
    "print el.genParticleRef().statusFlags().isDirectPromptTauDecayProduct()"
   ]
  },
  {
   "cell_type": "code",
   "execution_count": 7,
   "metadata": {
    "collapsed": false
   },
   "outputs": [
    {
     "name": "stdout",
     "output_type": "stream",
     "text": [
      "Muons\n",
      "26.9961910248\n",
      "<ROOT.edm::Ref<vector<reco::GenParticle>,reco::GenParticle,edm::refhelper::FindUsingAdvance<vector<reco::GenParticle>,reco::GenParticle> > object at 0x2406390>\n",
      "<ROOT.reco::GenStatusFlags object at 0x1953c8e8>\n",
      "False\n",
      "False\n"
     ]
    }
   ],
   "source": [
    "print \"Muons\"\n",
    "print muon.pt()\n",
    "print muon.genParticleRef()\n",
    "print muon.genParticleRef().statusFlags()\n",
    "print muon.genParticleRef().isPromptFinalState()\n",
    "print muon.genParticleRef().isDirectPromptTauDecayProductFinalState()"
   ]
  },
  {
   "cell_type": "code",
   "execution_count": null,
   "metadata": {
    "collapsed": true
   },
   "outputs": [],
   "source": []
  }
 ],
 "metadata": {
  "kernelspec": {
   "display_name": "Python 2",
   "language": "python",
   "name": "python2"
  },
  "language_info": {
   "codemirror_mode": {
    "name": "ipython",
    "version": 2
   },
   "file_extension": ".py",
   "mimetype": "text/x-python",
   "name": "python",
   "nbconvert_exporter": "python",
   "pygments_lexer": "ipython2",
   "version": "2.7.6"
  }
 },
 "nbformat": 4,
 "nbformat_minor": 0
}
